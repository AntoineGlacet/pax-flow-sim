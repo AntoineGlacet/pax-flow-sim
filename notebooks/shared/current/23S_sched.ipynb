{
 "cells": [
  {
   "cell_type": "code",
   "execution_count": 2,
   "metadata": {},
   "outputs": [],
   "source": [
    "import pandas as pd\n",
    "import matplotlib.pyplot as plt\n",
    "from pathlib import Path"
   ]
  },
  {
   "cell_type": "code",
   "execution_count": 5,
   "metadata": {},
   "outputs": [],
   "source": [
    "path_sched_FY23 = Path('/home/antoine/projects/pax-flow-sim/data/raw/230202 FY2023 R1.xlsx')\n",
    "sched_FY23 = pd.read_excel(io=path_sched_FY23,sheet_name=\"230202 FY2023 R1\",header=1)"
   ]
  },
  {
   "cell_type": "code",
   "execution_count": 6,
   "metadata": {},
   "outputs": [
    {
     "data": {
      "text/html": [
       "<div>\n",
       "<style scoped>\n",
       "    .dataframe tbody tr th:only-of-type {\n",
       "        vertical-align: middle;\n",
       "    }\n",
       "\n",
       "    .dataframe tbody tr th {\n",
       "        vertical-align: top;\n",
       "    }\n",
       "\n",
       "    .dataframe thead th {\n",
       "        text-align: right;\n",
       "    }\n",
       "</style>\n",
       "<table border=\"1\" class=\"dataframe\">\n",
       "  <thead>\n",
       "    <tr style=\"text-align: right;\">\n",
       "      <th></th>\n",
       "      <th>Seats</th>\n",
       "      <th>MTOW</th>\n",
       "      <th>Gate</th>\n",
       "      <th>PAX</th>\n",
       "      <th>LF</th>\n",
       "    </tr>\n",
       "  </thead>\n",
       "  <tbody>\n",
       "    <tr>\n",
       "      <th>count</th>\n",
       "      <td>100007.000000</td>\n",
       "      <td>100007.000000</td>\n",
       "      <td>70771.0</td>\n",
       "      <td>50003.000000</td>\n",
       "      <td>50003.000000</td>\n",
       "    </tr>\n",
       "    <tr>\n",
       "      <th>mean</th>\n",
       "      <td>220.512984</td>\n",
       "      <td>130.016819</td>\n",
       "      <td>0.0</td>\n",
       "      <td>164.093634</td>\n",
       "      <td>0.743529</td>\n",
       "    </tr>\n",
       "    <tr>\n",
       "      <th>std</th>\n",
       "      <td>62.652027</td>\n",
       "      <td>76.541814</td>\n",
       "      <td>0.0</td>\n",
       "      <td>49.744616</td>\n",
       "      <td>0.075558</td>\n",
       "    </tr>\n",
       "    <tr>\n",
       "      <th>min</th>\n",
       "      <td>144.000000</td>\n",
       "      <td>70.000000</td>\n",
       "      <td>0.0</td>\n",
       "      <td>70.000000</td>\n",
       "      <td>0.295580</td>\n",
       "    </tr>\n",
       "    <tr>\n",
       "      <th>25%</th>\n",
       "      <td>180.000000</td>\n",
       "      <td>77.000000</td>\n",
       "      <td>0.0</td>\n",
       "      <td>130.000000</td>\n",
       "      <td>0.707447</td>\n",
       "    </tr>\n",
       "    <tr>\n",
       "      <th>50%</th>\n",
       "      <td>189.000000</td>\n",
       "      <td>89.000000</td>\n",
       "      <td>0.0</td>\n",
       "      <td>148.000000</td>\n",
       "      <td>0.740909</td>\n",
       "    </tr>\n",
       "    <tr>\n",
       "      <th>75%</th>\n",
       "      <td>274.000000</td>\n",
       "      <td>228.000000</td>\n",
       "      <td>0.0</td>\n",
       "      <td>188.000000</td>\n",
       "      <td>0.789855</td>\n",
       "    </tr>\n",
       "    <tr>\n",
       "      <th>max</th>\n",
       "      <td>393.000000</td>\n",
       "      <td>352.000000</td>\n",
       "      <td>0.0</td>\n",
       "      <td>351.000000</td>\n",
       "      <td>0.949153</td>\n",
       "    </tr>\n",
       "  </tbody>\n",
       "</table>\n",
       "</div>"
      ],
      "text/plain": [
       "               Seats           MTOW     Gate           PAX            LF\n",
       "count  100007.000000  100007.000000  70771.0  50003.000000  50003.000000\n",
       "mean      220.512984     130.016819      0.0    164.093634      0.743529\n",
       "std        62.652027      76.541814      0.0     49.744616      0.075558\n",
       "min       144.000000      70.000000      0.0     70.000000      0.295580\n",
       "25%       180.000000      77.000000      0.0    130.000000      0.707447\n",
       "50%       189.000000      89.000000      0.0    148.000000      0.740909\n",
       "75%       274.000000     228.000000      0.0    188.000000      0.789855\n",
       "max       393.000000     352.000000      0.0    351.000000      0.949153"
      ]
     },
     "execution_count": 6,
     "metadata": {},
     "output_type": "execute_result"
    }
   ],
   "source": [
    "sched_FY23.describe()"
   ]
  },
  {
   "cell_type": "code",
   "execution_count": null,
   "metadata": {},
   "outputs": [],
   "source": []
  }
 ],
 "metadata": {
  "kernelspec": {
   "display_name": "pax-flow-sim",
   "language": "python",
   "name": "python3"
  },
  "language_info": {
   "codemirror_mode": {
    "name": "ipython",
    "version": 3
   },
   "file_extension": ".py",
   "mimetype": "text/x-python",
   "name": "python",
   "nbconvert_exporter": "python",
   "pygments_lexer": "ipython3",
   "version": "3.11.0"
  },
  "orig_nbformat": 4,
  "vscode": {
   "interpreter": {
    "hash": "e5ef24e8318c406dc699add3366c8aeb919318762de07f2afa406e12ea0d3a74"
   }
  }
 },
 "nbformat": 4,
 "nbformat_minor": 2
}
